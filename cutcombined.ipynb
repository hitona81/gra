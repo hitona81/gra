{
 "cells": [
  {
   "cell_type": "code",
   "execution_count": 50,
   "metadata": {},
   "outputs": [
    {
     "name": "stdout",
     "output_type": "stream",
     "text": [
      "合成画像が保存されました。\n"
     ]
    }
   ],
   "source": [
    "import cv2\n",
    "import math\n",
    "import numpy as np\n",
    "\n",
    "# -----------------------------------------------------\n",
    "# 画像表示関数\n",
    "# -----------------------------------------------------\n",
    "def disp_img(title, a_img):\n",
    "    cv2.imshow(title, a_img)\n",
    "    cv2.waitKey(0)\n",
    "\n",
    "def rotate_image(img, angle, center=None, scale=1.0):\n",
    "    (h, w) = img.shape[:2]\n",
    "    \n",
    "    if center is None:\n",
    "        center = (w // 2, h // 2)\n",
    "        \n",
    "    # 回転行列を生成\n",
    "    rot_mat = cv2.getRotationMatrix2D(center, angle, scale)\n",
    "    rotated_img = cv2.warpAffine(img, rot_mat, (w, h), flags=cv2.INTER_LINEAR, borderMode=cv2.BORDER_CONSTANT, borderValue=(0, 0, 0, 0))\n",
    "    \n",
    "    return rotated_img\n",
    "\n",
    "# 昆虫画像の読み込み\n",
    "insect_img = cv2.imread('images/wakuta_c/mantis8_AI.png', cv2.IMREAD_UNCHANGED)\n",
    "\n",
    "if insect_img is not None:\n",
    "    # 昆虫画像を上下に分割\n",
    "    h, w = insect_img.shape[:2]\n",
    "    chest_img = insect_img[:h//3, :]  # 胸部\n",
    "    abdomen_img = insect_img[h//3:, :]  # 腹部\n",
    "\n",
    "    # 30度回転\n",
    "    rotated_chest = rotate_image(chest_img, 60, (w//1.8, h//2.3))\n",
    "    rotated_abdomen = rotate_image(abdomen_img, 10, (w//2, h//1.3))\n",
    "\n",
    "    # 合成画像の作成\n",
    "    combined_height = rotated_chest.shape[0] + rotated_abdomen.shape[0]\n",
    "    combined_width = max(rotated_chest.shape[1], rotated_abdomen.shape[1])\n",
    "    combined_img = np.zeros((combined_height, combined_width, 4), dtype=np.uint8)  # 透明領域を含む合成画像\n",
    "\n",
    "    # 胸部画像を合成\n",
    "    combined_img[:rotated_chest.shape[0], :rotated_chest.shape[1]] = rotated_chest\n",
    "    # 腹部画像を合成\n",
    "    combined_img[rotated_chest.shape[0]:, :rotated_abdomen.shape[1]] = rotated_abdomen\n",
    "\n",
    "    # 保存\n",
    "    cv2.imwrite('./results/rotated_insect_combined.png', combined_img)\n",
    "    disp_img('copied_img', combined_img)\n",
    "\n",
    "print(\"合成画像が保存されました。\")\n"
   ]
  }
 ],
 "metadata": {
  "kernelspec": {
   "display_name": "opcv",
   "language": "python",
   "name": "python3"
  },
  "language_info": {
   "codemirror_mode": {
    "name": "ipython",
    "version": 3
   },
   "file_extension": ".py",
   "mimetype": "text/x-python",
   "name": "python",
   "nbconvert_exporter": "python",
   "pygments_lexer": "ipython3",
   "version": "3.8.20"
  }
 },
 "nbformat": 4,
 "nbformat_minor": 2
}
