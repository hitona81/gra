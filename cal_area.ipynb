{
 "cells": [
  {
   "cell_type": "code",
   "execution_count": 5,
   "metadata": {},
   "outputs": [
    {
     "name": "stdout",
     "output_type": "stream",
     "text": [
      "White_Area=29.20151930787086%\n"
     ]
    }
   ],
   "source": [
    "import cv2\n",
    "\n",
    "#画像の読み込み\n",
    "img=cv2.imread('./images/create_mask/area/wakuta_mask.png',0)\n",
    "img=cv2.imread('./images/create_mask/area/mantis_before.jpg',0)\n",
    "img=cv2.imread('./images/create_mask/area/mantis_after.jpg',0)\n",
    "#特定の範囲のGaussian分布から閾値を自動で決めて二値化\n",
    "ret1,img_th=cv2.threshold(img,0,255,cv2.THRESH_OTSU)\n",
    "#全体の画素数\n",
    "whole_area=img_th.size\n",
    "#白部分の画素数\n",
    "white_area=cv2.countNonZero(img_th)\n",
    "\n",
    "print('White_Area='+str(white_area/whole_area*100)+'%')"
   ]
  },
  {
   "cell_type": "code",
   "execution_count": 13,
   "metadata": {},
   "outputs": [
    {
     "name": "stdout",
     "output_type": "stream",
     "text": [
      "wakuta_mask  = 29.82971090947457%\n",
      "mantis_before= 28.723992403460645%\n",
      "mantis_after = 29.20151930787086%\n",
      "bee_before   = 32.5665752268411%\n",
      "bee_after    = 33.36062460434691%\n"
     ]
    }
   ],
   "source": [
    "import cv2\n",
    "\n",
    "def caluculate_area(img):\n",
    "    ret1,img_th = cv2.threshold(img, 0, 255, cv2.THRESH_OTSU)\n",
    "    whole_area = img_th.size\n",
    "    white_area = cv2.countNonZero(img_th)\n",
    "    area = white_area/whole_area*100\n",
    "    \n",
    "    return area\n",
    "\n",
    "def main():\n",
    "    img=cv2.imread('./images/create_mask/area/wakuta_mask.png',0)\n",
    "    img2=cv2.imread('./images/create_mask/area/mantis_before.jpg',0)\n",
    "    img3=cv2.imread('./images/create_mask/area/mantis_after.jpg',0)\n",
    "    img4=cv2.imread('./images/create_mask/area/bee_before.jpg',0)\n",
    "    img5=cv2.imread('./images/create_mask/area/bee_after.jpg',0)\n",
    "    \n",
    "    \n",
    "    area = caluculate_area(img)\n",
    "    area2 = caluculate_area(img2)\n",
    "    area3 = caluculate_area(img3)\n",
    "    area4 = caluculate_area(img4)\n",
    "    area5 = caluculate_area(img5)\n",
    "    \n",
    "    print('wakuta_mask  = '+str(area)+ '%')\n",
    "    print('mantis_before= '+str(area2)+ '%')\n",
    "    print('mantis_after = '+str(area3)+ '%')\n",
    "    print('bee_before   = '+str(area4)+ '%')\n",
    "    print('bee_after    = '+str(area5)+ '%')\n",
    "    \n",
    "if __name__ == \"__main__\":\n",
    "    main()"
   ]
  }
 ],
 "metadata": {
  "kernelspec": {
   "display_name": "mine",
   "language": "python",
   "name": "python3"
  },
  "language_info": {
   "codemirror_mode": {
    "name": "ipython",
    "version": 3
   },
   "file_extension": ".py",
   "mimetype": "text/x-python",
   "name": "python",
   "nbconvert_exporter": "python",
   "pygments_lexer": "ipython3",
   "version": "3.9.20"
  }
 },
 "nbformat": 4,
 "nbformat_minor": 2
}
