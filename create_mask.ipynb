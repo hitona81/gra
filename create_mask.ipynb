{
 "cells": [
  {
   "cell_type": "code",
   "execution_count": null,
   "metadata": {},
   "outputs": [],
   "source": [
    "import cv2\n",
    "from rembg import remove\n",
    "from PIL import Image\n",
    "import numpy as np\n",
    "import sys\n",
    "\n",
    "def remove_background(input_image_path, output_image_path):\n",
    "    # 背景を削除\n",
    "    try:\n",
    "        input_image = Image.open(input_image_path)\n",
    "    except IOError:\n",
    "        print(f\"Error: Cannot open {input_image_path}\")\n",
    "        return\n",
    "\n",
    "    output_image = remove(input_image)\n",
    "    output_image.save(output_image_path)\n",
    "\n",
    "def apply_mask_to_background(masked_image_path):\n",
    "    # RGBA画像を読み込み\n",
    "    rgba_image = cv2.imread(masked_image_path, cv2.IMREAD_UNCHANGED)\n",
    "    if rgba_image is None:\n",
    "        print(f\"Error: Cannot open {masked_image_path}\")\n",
    "        return\n",
    "\n",
    "    # アルファチャネルをマスクとして使用\n",
    "    alpha_channel = rgba_image[:, :, 3]\n",
    "\n",
    "    # 白い背景画像を作成\n",
    "    background = np.ones_like(rgba_image, dtype=np.uint8) * 255\n",
    "    # マスクを適用\n",
    "    background_masked = cv2.bitwise_and(background, background, mask=alpha_channel)\n",
    "    return background_masked\n",
    "\n",
    "def main():\n",
    "    input_path = './images/create_mask/before/cat.jpg'\n",
    "    output_path = './images/create_mask/after/cat.png'\n",
    "\n",
    "    # 背景除去処理\n",
    "    remove_background(input_path, output_path)\n",
    "\n",
    "    # マスク適用処理\n",
    "    masked_image = apply_mask_to_background(output_path)\n",
    "    if masked_image is not None:\n",
    "        cv2.imshow('Masked Image', masked_image)\n",
    "        ##0入力して終了\n",
    "        cv2.waitKey(0)\n",
    "        cv2.destroyAllWindows()\n",
    "        cv2.imwrite('masked_image.jpg', masked_image)\n",
    "        \n",
    "    \n",
    "   \n",
    "\n",
    "if __name__ == \"__main__\":\n",
    "    main()"
   ]
  }
 ],
 "metadata": {
  "kernelspec": {
   "display_name": "mine",
   "language": "python",
   "name": "python3"
  },
  "language_info": {
   "codemirror_mode": {
    "name": "ipython",
    "version": 3
   },
   "file_extension": ".py",
   "mimetype": "text/x-python",
   "name": "python",
   "nbconvert_exporter": "python",
   "pygments_lexer": "ipython3",
   "version": "3.9.20"
  }
 },
 "nbformat": 4,
 "nbformat_minor": 2
}
