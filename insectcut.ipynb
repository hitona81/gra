{
 "cells": [
  {
   "cell_type": "code",
   "execution_count": 3,
   "metadata": {},
   "outputs": [],
   "source": [
    "import cv2\n",
    "\n",
    "def main():\n",
    "    img = cv2.imread(\"./images/mantis.jpg\")\n",
    "    height, width, channels = img.shape\n",
    "\n",
    "    clp = img[0:height//2, 0:width//2]     \n",
    "    cv2.imwrite(\"./test-tl.jpg\", clp)   \n",
    "\n",
    "    clp = img[0:height//2, width//2:width]     \n",
    "    cv2.imwrite(\"./test-tr.jpg\", clp)   \n",
    "\n",
    "    clp = img[height//2:height, 0:width//2]     \n",
    "    cv2.imwrite(\"./test-ul.jpg\", clp)   \n",
    "\n",
    "    clp = img[height//2:height, width//2:width]     \n",
    "    cv2.imwrite(\"./test-ur.jpg\", clp)\n",
    "\n",
    "if __name__ == \"__main__\":\n",
    "    main()\n"
   ]
  },
  {
   "cell_type": "code",
   "execution_count": 5,
   "metadata": {},
   "outputs": [],
   "source": [
    "#ライブラリのインポート\n",
    "import cv2\n",
    "import numpy as np\n",
    "#画像の読み込み\n",
    "img=cv2.imread('./images/mantis.jpg',cv2.IMREAD_COLOR)\n",
    "h,w=img.shape[:2]\n",
    "split_x=6\n",
    "split_y=6\n",
    "#画像の分割処理\n",
    "cx=0\n",
    "cy=0\n",
    "for j in range(split_x):\n",
    "    for i in range(split_y):\n",
    "        split_pic=img[cy:cy+int(h/split_y),cx:cx+int(w/split_x),:]\n",
    "        cv2.imwrite('split_pic/split_y'+str(i)+'_x'+str(j)+'.jpg',split_pic)\n",
    "        cy=cy+int(h/split_y)\n",
    "    cy=0\n",
    "    cx=cx+int(w/split_x)"
   ]
  },
  {
   "cell_type": "code",
   "execution_count": 6,
   "metadata": {},
   "outputs": [
    {
     "name": "stdout",
     "output_type": "stream",
     "text": [
      "画像の分割が完了しました。\n"
     ]
    }
   ],
   "source": [
    "import cv2\n",
    "\n",
    "# 画像の読み込み\n",
    "image = cv2.imread('./images/mantis.jpg')\n",
    "\n",
    "# 画像の幅と高さを取得\n",
    "height, width = image.shape[:2]\n",
    "\n",
    "# 横方向に3分割するための幅を計算\n",
    "split_width = width // 3\n",
    "\n",
    "# 分割した画像を保存する\n",
    "for i in range(3):\n",
    "    # 分割範囲を指定して画像を切り出し\n",
    "    split_image = image[:, i * split_width:(i + 1) * split_width]\n",
    "\n",
    "    # 分割した画像をファイルとして保存\n",
    "    cv2.imwrite(f'./split_pic/split_image_{i + 1}.jpg', split_image)\n",
    "\n",
    "print(\"画像の分割が完了しました。\")\n"
   ]
  },
  {
   "cell_type": "code",
   "execution_count": 7,
   "metadata": {},
   "outputs": [
    {
     "name": "stdout",
     "output_type": "stream",
     "text": [
      "画像の分割が完了しました。\n"
     ]
    }
   ],
   "source": [
    "import cv2\n",
    "\n",
    "# 画像の読み込み\n",
    "image = cv2.imread('./images/mantis.jpg')\n",
    "\n",
    "# 画像の幅と高さを取得\n",
    "height, width = image.shape[:2]\n",
    "\n",
    "# 縦方向に3分割するための高さを計算\n",
    "split_height = height // 3\n",
    "\n",
    "# 分割した画像を保存する\n",
    "for i in range(3):\n",
    "    # 分割範囲を指定して画像を切り出し\n",
    "    split_image = image[i * split_height:(i + 1) * split_height, :]\n",
    "\n",
    "    # 分割した画像をファイルとして保存\n",
    "    cv2.imwrite(f'./split_pic/split_img_{i + 1}.jpg', split_image)\n",
    "\n",
    "print(\"画像の分割が完了しました。\")\n"
   ]
  },
  {
   "cell_type": "code",
   "execution_count": null,
   "metadata": {},
   "outputs": [
    {
     "ename": "IndexError",
     "evalue": "index 250 is out of bounds for axis 0 with size 156",
     "output_type": "error",
     "traceback": [
      "\u001b[1;31m---------------------------------------------------------------------------\u001b[0m",
      "\u001b[1;31mIndexError\u001b[0m                                Traceback (most recent call last)",
      "Cell \u001b[1;32mIn[18], line 29\u001b[0m\n\u001b[0;32m     24\u001b[0m     split_image \u001b[38;5;241m=\u001b[39m image[split_points[i]:split_points[i \u001b[38;5;241m+\u001b[39m \u001b[38;5;241m1\u001b[39m], :]\n\u001b[0;32m     26\u001b[0m     \u001b[38;5;66;03m# 分割した画像をファイルとして保存\u001b[39;00m\n\u001b[0;32m     27\u001b[0m     \u001b[38;5;66;03m#cv2.imwrite(f'./split_pic/split_imag_{i + 1}.jpg', split_image)\u001b[39;00m\n\u001b[1;32m---> 29\u001b[0m disp_img(\u001b[38;5;124m'\u001b[39m\u001b[38;5;124mcopied_img\u001b[39m\u001b[38;5;124m'\u001b[39m, \u001b[43msplit_image\u001b[49m\u001b[43m[\u001b[49m\u001b[38;5;241;43m250\u001b[39;49m\u001b[43m]\u001b[49m)\n\u001b[0;32m     32\u001b[0m \u001b[38;5;28mprint\u001b[39m(\u001b[38;5;124m\"\u001b[39m\u001b[38;5;124m画像の分割が完了しました。\u001b[39m\u001b[38;5;124m\"\u001b[39m)\n",
      "\u001b[1;31mIndexError\u001b[0m: index 250 is out of bounds for axis 0 with size 156"
     ]
    }
   ],
   "source": [
    "import cv2\n",
    "import math\n",
    "import numpy as np\n",
    "\n",
    "# -----------------------------------------------------\n",
    "# 画像表示関数\n",
    "# -----------------------------------------------------\n",
    "def disp_img(title, a_img):\n",
    "    cv2.imshow(title, a_img)\n",
    "    cv2.waitKey(0)\n",
    "\n",
    "# 画像の読み込み\n",
    "image = cv2.imread('./images/mantis.jpg')\n",
    "\n",
    "# 画像の幅と高さを取得\n",
    "height, width = image.shape[:2]\n",
    "\n",
    "# 任意のy座標で分割するための座標リストを指定（例: 0, 300, 600, height）\n",
    "split_points = [0, 50, 100, height]  # 必要に応じて座標を調整\n",
    "\n",
    "# 指定した座標で縦方向に分割\n",
    "for i in range(len(split_points) - 1):\n",
    "    # 分割範囲を指定して画像を切り出し\n",
    "    split_image = image[split_points[i]:split_points[i + 1], :]\n",
    "\n",
    "    # 分割した画像をファイルとして保存\n",
    "    #cv2.imwrite(f'./split_pic/split_imag_{i + 1}.jpg', split_image)\n",
    "    \n",
    "disp_img('copied_img', split_image)\n",
    "\n",
    "\n",
    "print(\"画像の分割が完了しました。\")\n"
   ]
  }
 ],
 "metadata": {
  "kernelspec": {
   "display_name": "opcv",
   "language": "python",
   "name": "python3"
  },
  "language_info": {
   "codemirror_mode": {
    "name": "ipython",
    "version": 3
   },
   "file_extension": ".py",
   "mimetype": "text/x-python",
   "name": "python",
   "nbconvert_exporter": "python",
   "pygments_lexer": "ipython3",
   "version": "3.8.20"
  }
 },
 "nbformat": 4,
 "nbformat_minor": 2
}
